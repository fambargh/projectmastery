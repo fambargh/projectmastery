{
  "nbformat": 4,
  "nbformat_minor": 0,
  "metadata": {
    "colab": {
      "name": "Untitled37.ipynb",
      "provenance": [],
      "authorship_tag": "ABX9TyP/Zgfr9KC9XXKlbaIQ9lTA",
      "include_colab_link": true
    },
    "kernelspec": {
      "name": "python3",
      "display_name": "Python 3"
    }
  },
  "cells": [
    {
      "cell_type": "markdown",
      "metadata": {
        "id": "view-in-github",
        "colab_type": "text"
      },
      "source": [
        "<a href=\"https://colab.research.google.com/github/fambargh/projectmastery/blob/master/mnet.ipynb\" target=\"_parent\"><img src=\"https://colab.research.google.com/assets/colab-badge.svg\" alt=\"Open In Colab\"/></a>"
      ]
    },
    {
      "cell_type": "code",
      "metadata": {
        "id": "EXMBWLBUmVK8",
        "outputId": "bbbb75b0-8043-4438-e842-038244c927ea",
        "colab": {
          "base_uri": "https://localhost:8080/",
          "height": 131
        }
      },
      "source": [
        "!git clone https://github.com/HzFu/MNet_DeepCDR.git"
      ],
      "execution_count": 1,
      "outputs": [
        {
          "output_type": "stream",
          "text": [
            "Cloning into 'MNet_DeepCDR'...\n",
            "remote: Enumerating objects: 3, done.\u001b[K\n",
            "remote: Counting objects: 100% (3/3), done.\u001b[K\n",
            "remote: Compressing objects: 100% (3/3), done.\u001b[K\n",
            "remote: Total 1355 (delta 0), reused 0 (delta 0), pack-reused 1352\u001b[K\n",
            "Receiving objects: 100% (1355/1355), 111.00 MiB | 23.44 MiB/s, done.\n",
            "Resolving deltas: 100% (676/676), done.\n"
          ],
          "name": "stdout"
        }
      ]
    },
    {
      "cell_type": "code",
      "metadata": {
        "id": "QFRgoMqKmd6h",
        "outputId": "0ae927ed-6ecf-4495-b154-2f11f16343a0",
        "colab": {
          "base_uri": "https://localhost:8080/",
          "height": 765
        }
      },
      "source": [
        "from __future__ import print_function\n",
        "\n",
        "from os import path\n",
        "from sys import modules\n",
        "from time import time\n",
        "\n",
        "import cv2\n",
        "import numpy as np\n",
        "from PIL import Image\n",
        "from pkg_resources import resource_filename\n",
        "from skimage.measure import label, regionprops\n",
        "from skimage.transform import rotate, resize\n",
        "from tensorflow.python.keras.preprocessing import image\n",
        "\n",
        "from MNet_DeepCDR.mnet_deep_cdr import Model_DiscSeg as DiscModel, Model_MNet as MNetModel\n",
        "from MNet_DeepCDR.mnet_deep_cdr.mnet_utils import pro_process, BW_img, disc_crop, mk_dir, files_with_ext\n",
        "\n",
        "DiscROI_size = 600\n",
        "DiscSeg_size = 640\n",
        "CDRSeg_size = 400\n",
        "\n",
        "parent_dir = path.dirname(resource_filename(modules[__name__].__name__, '__init__.py'))\n",
        "\n",
        "test_data_path = path.join(parent_dir, 'test_img')\n",
        "data_save_path = mk_dir(path.join(parent_dir, 'test_img1'))\n",
        "\n",
        "file_test_list = files_with_ext(test_data_path, '.png')\n",
        "\n",
        "DiscSeg_model = DiscModel.DeepModel(size_set=DiscSeg_size)\n",
        "DiscSeg_model.load_weights(path.join(parent_dir, 'deep_model', 'Model_DiscSeg_ORIGA.h5'))\n",
        "\n",
        "CDRSeg_model = MNetModel.DeepModel(size_set=CDRSeg_size)\n",
        "CDRSeg_model.load_weights(path.join(parent_dir, 'deep_model', 'Model_MNet_REFUGE.h5'))\n",
        "\n",
        "for lineIdx, temp_txt in enumerate(file_test_list):\n",
        "    # load image\n",
        "    org_img = np.asarray(image.load_img(path.join(test_data_path, temp_txt)))\n",
        "    # Disc region detection by U-Net\n",
        "    temp_img = resize(org_img, (DiscSeg_size, DiscSeg_size, 3)) * 255\n",
        "    temp_img = np.reshape(temp_img, (1,) + temp_img.shape)\n",
        "    disc_map = DiscSeg_model.predict([temp_img])\n",
        "    disc_map = BW_img(np.reshape(disc_map, (DiscSeg_size, DiscSeg_size)), 0.5)\n",
        "\n",
        "    regions = regionprops(label(disc_map))\n",
        "    C_x = int(regions[0].centroid[0] * org_img.shape[0] / DiscSeg_size)\n",
        "    C_y = int(regions[0].centroid[1] * org_img.shape[1] / DiscSeg_size)\n",
        "    disc_region, err_xy, crop_xy = disc_crop(org_img, DiscROI_size, C_x, C_y)\n",
        "\n",
        "    # Disc and Cup segmentation by M-Net\n",
        "    run_start = time()\n",
        "    Disc_flat = rotate(cv2.linearPolar(disc_region, (DiscROI_size / 2, DiscROI_size / 2),\n",
        "                                       DiscROI_size / 2, cv2.WARP_FILL_OUTLIERS), -90)\n",
        "\n",
        "    temp_img = pro_process(Disc_flat, CDRSeg_size)\n",
        "    temp_img = np.reshape(temp_img, (1,) + temp_img.shape)\n",
        "    [_, _, _, _, prob_10] = CDRSeg_model.predict(temp_img)\n",
        "    run_end = time()\n",
        "\n",
        "    # Extract mask\n",
        "    prob_map = np.reshape(prob_10, (prob_10.shape[1], prob_10.shape[2], prob_10.shape[3]))\n",
        "    disc_map = np.array(Image.fromarray(prob_map[:, :, 0]).resize((DiscROI_size, DiscROI_size)))\n",
        "    cup_map = np.array(Image.fromarray(prob_map[:, :, 1]).resize((DiscROI_size, DiscROI_size)))\n",
        "    disc_map[-round(DiscROI_size / 3):, :] = 0\n",
        "    cup_map[-round(DiscROI_size / 2):, :] = 0\n",
        "    De_disc_map = cv2.linearPolar(rotate(disc_map, 90), (DiscROI_size / 2, DiscROI_size / 2),\n",
        "                                  DiscROI_size / 2, cv2.WARP_FILL_OUTLIERS + cv2.WARP_INVERSE_MAP)\n",
        "    De_cup_map = cv2.linearPolar(rotate(cup_map, 90), (DiscROI_size / 2, DiscROI_size / 2),\n",
        "                                 DiscROI_size / 2, cv2.WARP_FILL_OUTLIERS + cv2.WARP_INVERSE_MAP)\n",
        "\n",
        "    De_disc_map = np.array(BW_img(De_disc_map, 0.5), dtype=int)\n",
        "    De_cup_map = np.array(BW_img(De_cup_map, 0.5), dtype=int)\n",
        "\n",
        "    print('Processing Img {idx}: {temp_txt}, running time: {running_time}'.format(\n",
        "        idx=lineIdx + 1, temp_txt=temp_txt, running_time=run_end - run_start\n",
        "    ))\n",
        "\n",
        "    # Save raw mask\n",
        "    ROI_result = np.array(BW_img(De_disc_map, 0.5), dtype=int) + np.array(BW_img(De_cup_map, 0.5), dtype=int)\n",
        "    Img_result = np.zeros((org_img.shape[0], org_img.shape[1]), dtype=np.int8)\n",
        "    Img_result[crop_xy[0]:crop_xy[1], crop_xy[2]:crop_xy[3], ] = ROI_result[err_xy[0]:err_xy[1], err_xy[2]:err_xy[3], ]\n",
        "    save_result = Image.fromarray((Img_result * 127).astype(np.uint8))\n",
        "    save_result.save(path.join(data_save_path, temp_txt[:-4] + '.png'))"
      ],
      "execution_count": 15,
      "outputs": [
        {
          "output_type": "stream",
          "text": [
            "15\n",
            "2020-10-11 21:58:14 - PIL.PngImagePlugin - DEBUG - STREAM b'IHDR' 16 13\n",
            "2020-10-11 21:58:14 - PIL.PngImagePlugin - DEBUG - STREAM b'IDAT' 41 65536\n",
            "Processing Img 1: drishtiGS_008.png, running time: 1.4276556968688965\n",
            "2020-10-11 21:58:18 - PIL.PngImagePlugin - DEBUG - STREAM b'IHDR' 16 13\n",
            "2020-10-11 21:58:18 - PIL.PngImagePlugin - DEBUG - STREAM b'IDAT' 41 65536\n",
            "Processing Img 2: drishtiGS_005.png, running time: 1.195012092590332\n",
            "2020-10-11 21:58:22 - PIL.PngImagePlugin - DEBUG - STREAM b'IHDR' 16 13\n",
            "2020-10-11 21:58:22 - PIL.PngImagePlugin - DEBUG - STREAM b'IDAT' 41 65536\n",
            "Processing Img 3: drishtiGS_017.png, running time: 2.3371801376342773\n",
            "2020-10-11 21:58:28 - PIL.PngImagePlugin - DEBUG - STREAM b'IHDR' 16 13\n",
            "2020-10-11 21:58:28 - PIL.PngImagePlugin - DEBUG - STREAM b'IDAT' 41 65536\n",
            "Processing Img 4: drishtiGS_001.png, running time: 1.4249305725097656\n",
            "2020-10-11 21:58:34 - PIL.PngImagePlugin - DEBUG - STREAM b'IHDR' 16 13\n",
            "2020-10-11 21:58:34 - PIL.PngImagePlugin - DEBUG - STREAM b'IDAT' 41 65536\n",
            "Processing Img 5: drishtiGS_004.png, running time: 1.201531171798706\n",
            "2020-10-11 21:58:38 - PIL.PngImagePlugin - DEBUG - STREAM b'IHDR' 16 13\n",
            "2020-10-11 21:58:38 - PIL.PngImagePlugin - DEBUG - STREAM b'IDAT' 41 65536\n",
            "Processing Img 6: drishtiGS_011.png, running time: 1.229046106338501\n",
            "2020-10-11 21:58:42 - PIL.PngImagePlugin - DEBUG - STREAM b'IHDR' 16 13\n",
            "2020-10-11 21:58:42 - PIL.PngImagePlugin - DEBUG - STREAM b'IDAT' 41 65536\n",
            "Processing Img 7: drishtiGS_013.png, running time: 1.21274995803833\n",
            "2020-10-11 21:58:46 - PIL.PngImagePlugin - DEBUG - STREAM b'IHDR' 16 13\n",
            "2020-10-11 21:58:46 - PIL.PngImagePlugin - DEBUG - STREAM b'IDAT' 41 65536\n",
            "Processing Img 8: drishtiGS_003.png, running time: 1.1959221363067627\n",
            "2020-10-11 21:58:50 - PIL.PngImagePlugin - DEBUG - STREAM b'IHDR' 16 13\n",
            "2020-10-11 21:58:50 - PIL.PngImagePlugin - DEBUG - STREAM b'IDAT' 41 65536\n",
            "Processing Img 9: drishtiGS_002.png, running time: 1.2208995819091797\n",
            "2020-10-11 21:58:54 - PIL.PngImagePlugin - DEBUG - STREAM b'IHDR' 16 13\n",
            "2020-10-11 21:58:54 - PIL.PngImagePlugin - DEBUG - STREAM b'IDAT' 41 65536\n",
            "Processing Img 10: drishtiGS_010.png, running time: 1.1845152378082275\n",
            "2020-10-11 21:58:58 - PIL.PngImagePlugin - DEBUG - STREAM b'IHDR' 16 13\n",
            "2020-10-11 21:58:58 - PIL.PngImagePlugin - DEBUG - STREAM b'IDAT' 41 65536\n",
            "Processing Img 11: drishtiGS_014.png, running time: 1.1730670928955078\n",
            "2020-10-11 21:59:02 - PIL.PngImagePlugin - DEBUG - STREAM b'IHDR' 16 13\n",
            "2020-10-11 21:59:02 - PIL.PngImagePlugin - DEBUG - STREAM b'IDAT' 41 65536\n",
            "Processing Img 12: drishtiGS_006.png, running time: 1.2005372047424316\n",
            "2020-10-11 21:59:06 - PIL.PngImagePlugin - DEBUG - STREAM b'IHDR' 16 13\n",
            "2020-10-11 21:59:06 - PIL.PngImagePlugin - DEBUG - STREAM b'IDAT' 41 65536\n",
            "Processing Img 13: drishtiGS_007.png, running time: 1.1950995922088623\n",
            "2020-10-11 21:59:10 - PIL.PngImagePlugin - DEBUG - STREAM b'IHDR' 16 13\n",
            "2020-10-11 21:59:10 - PIL.PngImagePlugin - DEBUG - STREAM b'IDAT' 41 65536\n",
            "Processing Img 14: drishtiGS_009.png, running time: 1.1994123458862305\n",
            "2020-10-11 21:59:13 - PIL.PngImagePlugin - DEBUG - STREAM b'IHDR' 16 13\n",
            "2020-10-11 21:59:13 - PIL.PngImagePlugin - DEBUG - STREAM b'IDAT' 41 65536\n",
            "Processing Img 15: drishtiGS_012.png, running time: 1.3640131950378418\n"
          ],
          "name": "stdout"
        }
      ]
    },
    {
      "cell_type": "code",
      "metadata": {
        "id": "HN1kN_HeqJvc"
      },
      "source": [
        " !rm -rf /content/test_img1"
      ],
      "execution_count": 14,
      "outputs": []
    },
    {
      "cell_type": "code",
      "metadata": {
        "id": "mjEimUgMs9qZ",
        "outputId": "123455ad-864c-4425-bc6c-77a1a3d4cb8c",
        "colab": {
          "base_uri": "https://localhost:8080/",
          "height": 277
        }
      },
      "source": [
        "!zip -r /content/test_img1.zip /content/test_img1"
      ],
      "execution_count": 16,
      "outputs": [
        {
          "output_type": "stream",
          "text": [
            "  adding: content/test_img1/ (stored 0%)\n",
            "  adding: content/test_img1/drishtiGS_008.png (stored 0%)\n",
            "  adding: content/test_img1/drishtiGS_005.png (stored 0%)\n",
            "  adding: content/test_img1/drishtiGS_017.png (deflated 3%)\n",
            "  adding: content/test_img1/drishtiGS_001.png (deflated 16%)\n",
            "  adding: content/test_img1/drishtiGS_004.png (stored 0%)\n",
            "  adding: content/test_img1/drishtiGS_011.png (stored 0%)\n",
            "  adding: content/test_img1/drishtiGS_013.png (stored 0%)\n",
            "  adding: content/test_img1/drishtiGS_003.png (stored 0%)\n",
            "  adding: content/test_img1/drishtiGS_002.png (stored 0%)\n",
            "  adding: content/test_img1/drishtiGS_010.png (deflated 5%)\n",
            "  adding: content/test_img1/drishtiGS_014.png (deflated 7%)\n",
            "  adding: content/test_img1/drishtiGS_006.png (deflated 7%)\n",
            "  adding: content/test_img1/drishtiGS_007.png (stored 0%)\n",
            "  adding: content/test_img1/drishtiGS_009.png (deflated 4%)\n",
            "  adding: content/test_img1/drishtiGS_012.png (stored 0%)\n"
          ],
          "name": "stdout"
        }
      ]
    }
  ]
}