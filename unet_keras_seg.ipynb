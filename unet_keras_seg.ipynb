{
  "nbformat": 4,
  "nbformat_minor": 0,
  "metadata": {
    "colab": {
      "name": "Untitled8.ipynb",
      "provenance": [],
      "include_colab_link": true
    },
    "kernelspec": {
      "name": "python3",
      "display_name": "Python 3"
    },
    "accelerator": "GPU"
  },
  "cells": [
    {
      "cell_type": "markdown",
      "metadata": {
        "id": "view-in-github",
        "colab_type": "text"
      },
      "source": [
        "<a href=\"https://colab.research.google.com/github/fambargh/projectmastery/blob/master/unet_keras_seg.ipynb\" target=\"_parent\"><img src=\"https://colab.research.google.com/assets/colab-badge.svg\" alt=\"Open In Colab\"/></a>"
      ]
    },
    {
      "cell_type": "code",
      "metadata": {
        "id": "03bNM4P_74-T",
        "colab_type": "code",
        "outputId": "d396f189-8d24-43cf-b885-3685954b5d90",
        "colab": {
          "base_uri": "https://localhost:8080/",
          "height": 33
        }
      },
      "source": [
        "from google.colab import drive\n",
        "drive.mount('/content/drive')"
      ],
      "execution_count": 68,
      "outputs": [
        {
          "output_type": "stream",
          "text": [
            "Drive already mounted at /content/drive; to attempt to forcibly remount, call drive.mount(\"/content/drive\", force_remount=True).\n"
          ],
          "name": "stdout"
        }
      ]
    },
    {
      "cell_type": "code",
      "metadata": {
        "id": "_9jtiUVB8wGp",
        "colab_type": "code",
        "outputId": "42cac19e-f752-42a6-b8d0-736e03c18951",
        "colab": {
          "base_uri": "https://localhost:8080/",
          "height": 33
        }
      },
      "source": [
        "pip install keras-segmentation\n"
      ],
      "execution_count": 69,
      "outputs": [
        {
          "output_type": "stream",
          "text": [
            "Requirement already satisfied: keras-segmentation in /usr/local/lib/python3.6/dist-packages (0.2.0)\n"
          ],
          "name": "stdout"
        }
      ]
    },
    {
      "cell_type": "code",
      "metadata": {
        "id": "GuTLPHuQ-uN0",
        "colab_type": "code",
        "colab": {
          "base_uri": "https://localhost:8080/",
          "height": 33
        },
        "outputId": "f7cdcf8c-18ce-4417-b4ee-3408a71ad96b"
      },
      "source": [
        "from zipfile import ZipFile\n",
        "filename = \"image.zip\"\n",
        "\n",
        "with ZipFile(filename,'r') as zip:\n",
        "  zip.extractall()\n",
        "  print('Done')"
      ],
      "execution_count": 3,
      "outputs": [
        {
          "output_type": "stream",
          "text": [
            "Done\n"
          ],
          "name": "stdout"
        }
      ]
    },
    {
      "cell_type": "code",
      "metadata": {
        "id": "T8nGK6a8-uFV",
        "colab_type": "code",
        "colab": {
          "base_uri": "https://localhost:8080/",
          "height": 33
        },
        "outputId": "f43cc28d-3a5e-457e-9c02-edad15b80089"
      },
      "source": [
        "from zipfile import ZipFile\n",
        "filename = \"annotate_cup3.zip\"\n",
        "\n",
        "with ZipFile(filename,'r') as zip:\n",
        "  zip.extractall()\n",
        "  print('Done')"
      ],
      "execution_count": 4,
      "outputs": [
        {
          "output_type": "stream",
          "text": [
            "Done\n"
          ],
          "name": "stdout"
        }
      ]
    },
    {
      "cell_type": "code",
      "metadata": {
        "id": "Ug2KSY_F8wES",
        "colab_type": "code",
        "outputId": "837ff587-f662-450b-a918-b03e8ffe9014",
        "colab": {
          "base_uri": "https://localhost:8080/",
          "height": 297
        }
      },
      "source": [
        "!python -m keras_segmentation verify_dataset \\\n",
        " --images_path=\"/content/image_train/\" \\\n",
        " --segs_path=\"/content/annotate_cup3/annotate_cup_train/\"  \\\n",
        " --n_classes=2"
      ],
      "execution_count": 70,
      "outputs": [
        {
          "output_type": "stream",
          "text": [
            "Using TensorFlow backend.\n",
            "  0% 0/178 [00:00<?, ?it/s]\n",
            "Traceback (most recent call last):\n",
            "  File \"/usr/lib/python3.6/runpy.py\", line 193, in _run_module_as_main\n",
            "    \"__main__\", mod_spec)\n",
            "  File \"/usr/lib/python3.6/runpy.py\", line 85, in _run_code\n",
            "    exec(code, run_globals)\n",
            "  File \"/usr/local/lib/python3.6/dist-packages/keras_segmentation/__main__.py\", line 4, in <module>\n",
            "    cli_interface.main()\n",
            "  File \"/usr/local/lib/python3.6/dist-packages/keras_segmentation/cli_interface.py\", line 136, in main\n",
            "    cli_verify_dataset()\n",
            "  File \"/usr/local/lib/python3.6/dist-packages/keras_segmentation/cli_interface.py\", line 105, in cli_verify_dataset\n",
            "    data_utils.data_loader.verify_segmentation_dataset( args.images_path , args.segs_path , args.n_classes )\n",
            "  File \"/usr/local/lib/python3.6/dist-packages/keras_segmentation/data_utils/data_loader.py\", line 106, in verify_segmentation_dataset\n",
            "    assert ( np.max(seg[:,:,0]) < n_classes) , \"The pixel values of seg image should be from 0 to \"+str(n_classes-1) + \" . Found pixel value \"+str(np.max(seg[:,:,0]))\n",
            "AssertionError: The pixel values of seg image should be from 0 to 1 . Found pixel value 2\n"
          ],
          "name": "stdout"
        }
      ]
    },
    {
      "cell_type": "code",
      "metadata": {
        "id": "j9l6Dk2z_fjH",
        "colab_type": "code",
        "outputId": "eac649f7-1626-476c-9a10-afe0a6a30d1f",
        "colab": {
          "base_uri": "https://localhost:8080/",
          "height": 66
        }
      },
      "source": [
        "!python -m keras_segmentation visualize_dataset \\\n",
        " --images_path=\"dataset_path/images_prepped_train/\" \\\n",
        " --segs_path=\"dataset_path/annotations_prepped_train/\"  \\\n",
        " --n_classes=2"
      ],
      "execution_count": 71,
      "outputs": [
        {
          "output_type": "stream",
          "text": [
            "Using TensorFlow backend.\n",
            "Press any key to navigate. \n",
            "visualize_dataset\n"
          ],
          "name": "stdout"
        }
      ]
    },
    {
      "cell_type": "code",
      "metadata": {
        "id": "JHNdMLyb_q4B",
        "colab_type": "code",
        "colab": {}
      },
      "source": [
        "import keras_segmentation\n",
        "\n",
        "model = keras_segmentation.models.unet.vgg_unet(n_classes=256 ,  input_height=128, input_width=128  )"
      ],
      "execution_count": 0,
      "outputs": []
    },
    {
      "cell_type": "code",
      "metadata": {
        "id": "VgNZo4c4_q2s",
        "colab_type": "code",
        "outputId": "6d49d198-d389-4ec7-9257-aff6372f4211",
        "colab": {
          "base_uri": "https://localhost:8080/",
          "height": 472
        }
      },
      "source": [
        "model.train( \n",
        "    train_images =  \"/content/image_train/\",\n",
        "    train_annotations = \"/content/annotate_cup3/annotate_cup_train/\",\n",
        "    checkpoints_path = \"/content/checkpoint/vgg_unet_1\" , epochs=5\n",
        ")"
      ],
      "execution_count": 73,
      "outputs": [
        {
          "output_type": "stream",
          "text": [
            "100%|██████████| 178/178 [00:00<00:00, 1142.34it/s]"
          ],
          "name": "stderr"
        },
        {
          "output_type": "stream",
          "text": [
            "Verifying train dataset\n",
            "Dataset verified! \n",
            "Starting Epoch  0\n"
          ],
          "name": "stdout"
        },
        {
          "output_type": "stream",
          "text": [
            "\n"
          ],
          "name": "stderr"
        },
        {
          "output_type": "stream",
          "text": [
            "Epoch 1/1\n",
            "512/512 [==============================] - 58s 113ms/step - loss: 0.5731 - acc: 0.9138\n",
            "saved  /content/checkpoint/vgg_unet_1.model.0\n",
            "Finished Epoch 0\n",
            "Starting Epoch  1\n",
            "Epoch 1/1\n",
            "512/512 [==============================] - 55s 108ms/step - loss: 0.1319 - acc: 0.9502\n",
            "saved  /content/checkpoint/vgg_unet_1.model.1\n",
            "Finished Epoch 1\n",
            "Starting Epoch  2\n",
            "Epoch 1/1\n",
            "512/512 [==============================] - 55s 108ms/step - loss: 0.1117 - acc: 0.9557\n",
            "saved  /content/checkpoint/vgg_unet_1.model.2\n",
            "Finished Epoch 2\n",
            "Starting Epoch  3\n",
            "Epoch 1/1\n",
            "512/512 [==============================] - 56s 109ms/step - loss: 0.1000 - acc: 0.9595\n",
            "saved  /content/checkpoint/vgg_unet_1.model.3\n",
            "Finished Epoch 3\n",
            "Starting Epoch  4\n",
            "Epoch 1/1\n",
            "512/512 [==============================] - 56s 109ms/step - loss: 0.0903 - acc: 0.9631\n",
            "saved  /content/checkpoint/vgg_unet_1.model.4\n",
            "Finished Epoch 4\n"
          ],
          "name": "stdout"
        }
      ]
    },
    {
      "cell_type": "code",
      "metadata": {
        "id": "VYawTJryElmf",
        "colab_type": "code",
        "outputId": "dd505015-2637-4cb6-c388-f73f0f214351",
        "colab": {
          "base_uri": "https://localhost:8080/",
          "height": 34
        }
      },
      "source": [
        "pip install keras-segmentation\n"
      ],
      "execution_count": 0,
      "outputs": [
        {
          "output_type": "stream",
          "text": [
            "Requirement already satisfied: keras-segmentation in /usr/local/lib/python3.6/dist-packages (0.2.0)\n"
          ],
          "name": "stdout"
        }
      ]
    },
    {
      "cell_type": "code",
      "metadata": {
        "id": "RqMJmZx-ErDa",
        "colab_type": "code",
        "colab": {}
      },
      "source": [
        "from keras import Input\n",
        "from keras import layers\n",
        "#from keras import Dropout\n",
        "from keras.layers import UpSampling2D"
      ],
      "execution_count": 0,
      "outputs": []
    },
    {
      "cell_type": "code",
      "metadata": {
        "id": "Vd3j4ub-8veq",
        "colab_type": "code",
        "colab": {
          "base_uri": "https://localhost:8080/",
          "height": 86
        },
        "outputId": "09d096a1-2e1f-44d1-8386-84fed9df79af"
      },
      "source": [
        "img_input = Input(shape=(128,128 , 3 ))\n",
        "\n",
        "conv1 = layers.Conv2D(32, (3, 3), activation='relu', padding='same')(img_input)\n",
        "conv1 = layers.Dropout(0.2)(conv1)\n",
        "conv1 = layers.Conv2D(32, (3, 3), activation='relu', padding='same')(conv1)\n",
        "pool1 = layers.MaxPooling2D((2, 2))(conv1)\n",
        "\n",
        "conv2 = layers.Conv2D(64, (3, 3), activation='relu', padding='same')(pool1)\n",
        "conv2 = layers.Dropout(0.2)(conv2)\n",
        "conv2 = layers.Conv2D(64, (3, 3), activation='relu', padding='same')(conv2)\n",
        "pool2 = layers.MaxPooling2D((2, 2))(conv2)\n",
        "conv3 = layers.Conv2D(128, (3, 3), activation='relu', padding='same')(pool2)\n",
        "conv3 = layers.Dropout(0.2)(conv3)\n",
        "conv3 = layers.Conv2D(128, (3, 3), activation='relu', padding='same')(conv3)\n",
        "\n",
        "up1 = layers.concatenate([UpSampling2D((2, 2))(conv3), conv2], axis=-1)\n",
        "conv4 = layers.Conv2D(64, (3, 3), activation='relu', padding='same')(up1)\n",
        "conv4 = layers.Dropout(0.2)(conv4)\n",
        "conv4 = layers.Conv2D(64, (3, 3), activation='relu', padding='same')(conv4)\n",
        "\n",
        "up2 = layers.concatenate([UpSampling2D((2, 2))(conv4), conv1], axis=-1)\n",
        "conv5 = layers.Conv2D(32, (3, 3), activation='relu', padding='same')(up2)\n",
        "conv5 = layers.Dropout(0.2)(conv5)\n",
        "conv5 = layers.Conv2D(32, (3, 3), activation='relu', padding='same')(conv5)\n",
        "out = layers.Conv2D( 256, (1, 1) , padding='same')(conv5)\n",
        "\n",
        "from keras_segmentation.models.model_utils import get_segmentation_model\n",
        "\n",
        "model = get_segmentation_model(img_input ,  out ) # this would build the segmentation model"
      ],
      "execution_count": 20,
      "outputs": [
        {
          "output_type": "stream",
          "text": [
            "WARNING:tensorflow:From /usr/local/lib/python3.6/dist-packages/keras/backend/tensorflow_backend.py:3733: calling dropout (from tensorflow.python.ops.nn_ops) with keep_prob is deprecated and will be removed in a future version.\n",
            "Instructions for updating:\n",
            "Please use `rate` instead of `keep_prob`. Rate should be set to `rate = 1 - keep_prob`.\n"
          ],
          "name": "stdout"
        }
      ]
    },
    {
      "cell_type": "code",
      "metadata": {
        "id": "HdhPBpYZ8vbz",
        "colab_type": "code",
        "outputId": "9ae26c87-a41a-4d7b-d729-6f767acaeafe",
        "colab": {
          "base_uri": "https://localhost:8080/",
          "height": 228
        }
      },
      "source": [
        "\n",
        "model.train( \n",
        "    train_images =  ,\n",
        "    train_annotations = \"/content/annotate_cup3/annotate_cup_train/\",\n",
        "    checkpoints_path = \"/content/checkpoint/vgg_unet_1\" , epochs=2\n",
        ")"
      ],
      "execution_count": 21,
      "outputs": [
        {
          "output_type": "stream",
          "text": [
            "100%|██████████| 178/178 [00:00<00:00, 1233.93it/s]"
          ],
          "name": "stderr"
        },
        {
          "output_type": "stream",
          "text": [
            "Verifying train dataset\n",
            "Dataset verified! \n",
            "Starting Epoch  0\n"
          ],
          "name": "stdout"
        },
        {
          "output_type": "stream",
          "text": [
            "\n"
          ],
          "name": "stderr"
        },
        {
          "output_type": "stream",
          "text": [
            "Epoch 1/1\n",
            "512/512 [==============================] - 72s 141ms/step - loss: 1.7110 - acc: 0.8910\n",
            "saved  /content/checkpoint/vgg_unet_1.model.0\n",
            "Finished Epoch 0\n",
            "Starting Epoch  1\n",
            "Epoch 1/1\n",
            "512/512 [==============================] - 70s 138ms/step - loss: 1.7145 - acc: 0.8936\n",
            "saved  /content/checkpoint/vgg_unet_1.model.1\n",
            "Finished Epoch 1\n"
          ],
          "name": "stdout"
        }
      ]
    },
    {
      "cell_type": "code",
      "metadata": {
        "id": "aLHD1uf4GtkO",
        "colab_type": "code",
        "colab": {}
      },
      "source": [
        "import os\n",
        "f='/content/image_test/'\n",
        "o=os.listdir(f)"
      ],
      "execution_count": 0,
      "outputs": []
    },
    {
      "cell_type": "code",
      "metadata": {
        "id": "OUEHLBytHMbX",
        "colab_type": "code",
        "colab": {
          "base_uri": "https://localhost:8080/",
          "height": 635
        },
        "outputId": "df646d29-1e78-40ec-e4e3-b4d49e9f6212"
      },
      "source": [
        "o"
      ],
      "execution_count": 82,
      "outputs": [
        {
          "output_type": "execute_result",
          "data": {
            "text/plain": [
              "['drishtiGS_099.png',\n",
              " 'S-12-L.png',\n",
              " 'S-20-L.png',\n",
              " 'S-31-L.png',\n",
              " 'drishtiGS_101.png',\n",
              " 'S-25-L.png',\n",
              " 'S-14-R.png',\n",
              " 'S-28-R.png',\n",
              " 'S-15-L.png',\n",
              " 'S-32-L.png',\n",
              " 'drishtiGS_095.png',\n",
              " 'drishtiGS_092.png',\n",
              " 'S-33-R.png',\n",
              " 'drishtiGS_098.png',\n",
              " 'drishtiGS_088.png',\n",
              " 'S-21-R.png',\n",
              " 'S-30-L.png',\n",
              " 'drishtiGS_089.png',\n",
              " 'drishtiGS_087.png',\n",
              " 'S-18-L.png',\n",
              " 'drishtiGS_091.png',\n",
              " 'S-26-R.png',\n",
              " 'S-27-L.png',\n",
              " 'drishtiGS_093.png',\n",
              " 'drishtiGS_090.png',\n",
              " 'S-24-R.png',\n",
              " 'S-22-L.png',\n",
              " 'S-23-L.png',\n",
              " 'S-13-R.png',\n",
              " 'S-29-R.png',\n",
              " 'S-16-R.png',\n",
              " 'S-19-R.png',\n",
              " 'S-34-L.png',\n",
              " 'drishtiGS_096.png',\n",
              " 'drishtiGS_097.png',\n",
              " 'drishtiGS_100.png',\n",
              " 'S-17-L.png',\n",
              " 'S-35-R.png']"
            ]
          },
          "metadata": {
            "tags": []
          },
          "execution_count": 82
        }
      ]
    },
    {
      "cell_type": "code",
      "metadata": {
        "id": "u1DZJOxgK-b_",
        "colab_type": "code",
        "colab": {}
      },
      "source": [
        "images_dir ='/content/image_test'\n",
        "ids = os.listdir(images_dir)\n",
        "images_fps = [os.path.join(images_dir, image_id) for image_id in ids]"
      ],
      "execution_count": 0,
      "outputs": []
    },
    {
      "cell_type": "code",
      "metadata": {
        "id": "f-q32kSNLAjP",
        "colab_type": "code",
        "colab": {
          "base_uri": "https://localhost:8080/",
          "height": 635
        },
        "outputId": "36219800-5228-4780-c493-f7bad01b65ad"
      },
      "source": [
        "images_fps"
      ],
      "execution_count": 84,
      "outputs": [
        {
          "output_type": "execute_result",
          "data": {
            "text/plain": [
              "['/content/image_test/drishtiGS_099.png',\n",
              " '/content/image_test/S-12-L.png',\n",
              " '/content/image_test/S-20-L.png',\n",
              " '/content/image_test/S-31-L.png',\n",
              " '/content/image_test/drishtiGS_101.png',\n",
              " '/content/image_test/S-25-L.png',\n",
              " '/content/image_test/S-14-R.png',\n",
              " '/content/image_test/S-28-R.png',\n",
              " '/content/image_test/S-15-L.png',\n",
              " '/content/image_test/S-32-L.png',\n",
              " '/content/image_test/drishtiGS_095.png',\n",
              " '/content/image_test/drishtiGS_092.png',\n",
              " '/content/image_test/S-33-R.png',\n",
              " '/content/image_test/drishtiGS_098.png',\n",
              " '/content/image_test/drishtiGS_088.png',\n",
              " '/content/image_test/S-21-R.png',\n",
              " '/content/image_test/S-30-L.png',\n",
              " '/content/image_test/drishtiGS_089.png',\n",
              " '/content/image_test/drishtiGS_087.png',\n",
              " '/content/image_test/S-18-L.png',\n",
              " '/content/image_test/drishtiGS_091.png',\n",
              " '/content/image_test/S-26-R.png',\n",
              " '/content/image_test/S-27-L.png',\n",
              " '/content/image_test/drishtiGS_093.png',\n",
              " '/content/image_test/drishtiGS_090.png',\n",
              " '/content/image_test/S-24-R.png',\n",
              " '/content/image_test/S-22-L.png',\n",
              " '/content/image_test/S-23-L.png',\n",
              " '/content/image_test/S-13-R.png',\n",
              " '/content/image_test/S-29-R.png',\n",
              " '/content/image_test/S-16-R.png',\n",
              " '/content/image_test/S-19-R.png',\n",
              " '/content/image_test/S-34-L.png',\n",
              " '/content/image_test/drishtiGS_096.png',\n",
              " '/content/image_test/drishtiGS_097.png',\n",
              " '/content/image_test/drishtiGS_100.png',\n",
              " '/content/image_test/S-17-L.png',\n",
              " '/content/image_test/S-35-R.png']"
            ]
          },
          "metadata": {
            "tags": []
          },
          "execution_count": 84
        }
      ]
    },
    {
      "cell_type": "code",
      "metadata": {
        "id": "y21zAD5pbnrY",
        "colab_type": "code",
        "colab": {}
      },
      "source": [
        "out = model.predict_segmentation(\n",
        "    inp=images_fps[1],\n",
        "    out_fname=\"/content/output/{}.png\"\n",
        ")"
      ],
      "execution_count": 0,
      "outputs": []
    },
    {
      "cell_type": "code",
      "metadata": {
        "id": "eFN-QjBnb4jB",
        "colab_type": "code",
        "colab": {}
      },
      "source": [
        "for i in range(len(images_fps)):\n",
        "  out = model.predict_segmentation(\n",
        "      inp=images_fps[i],\n",
        "      out_fname='/content/output/o[{}].png'.format(i)\n",
        "      #out_fname=\"/content/output/{}.png\".format(i)\n",
        "      )\n"
      ],
      "execution_count": 0,
      "outputs": []
    },
    {
      "cell_type": "code",
      "metadata": {
        "id": "rLJMel70LM6H",
        "colab_type": "code",
        "colab": {
          "base_uri": "https://localhost:8080/",
          "height": 33
        },
        "outputId": "98c23364-0478-46b1-c8bb-1f89015bccde"
      },
      "source": [
        "images_fps[1]"
      ],
      "execution_count": 43,
      "outputs": [
        {
          "output_type": "execute_result",
          "data": {
            "text/plain": [
              "'/content/image_test/S-12-L.png'"
            ]
          },
          "metadata": {
            "tags": []
          },
          "execution_count": 43
        }
      ]
    },
    {
      "cell_type": "code",
      "metadata": {
        "id": "nFm2t1LDdl60",
        "colab_type": "code",
        "colab": {}
      },
      "source": [
        "!zip -r /content/output.zip /content/output"
      ],
      "execution_count": 0,
      "outputs": []
    }
  ]
}