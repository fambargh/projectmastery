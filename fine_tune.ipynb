{
  "nbformat": 4,
  "nbformat_minor": 0,
  "metadata": {
    "colab": {
      "name": "Untitled31.ipynb",
      "provenance": [],
      "include_colab_link": true
    },
    "kernelspec": {
      "name": "python3",
      "display_name": "Python 3"
    },
    "accelerator": "GPU"
  },
  "cells": [
    {
      "cell_type": "markdown",
      "metadata": {
        "id": "view-in-github",
        "colab_type": "text"
      },
      "source": [
        "<a href=\"https://colab.research.google.com/github/fambargh/projectmastery/blob/master/fine_tune.ipynb\" target=\"_parent\"><img src=\"https://colab.research.google.com/assets/colab-badge.svg\" alt=\"Open In Colab\"/></a>"
      ]
    },
    {
      "cell_type": "code",
      "metadata": {
        "id": "N-Uu9LhFJQoX",
        "colab_type": "code",
        "colab": {}
      },
      "source": [
        "! unzip fine-tuning-keras.zip\n",
        "!cd fine-tuning-keras"
      ],
      "execution_count": 0,
      "outputs": []
    },
    {
      "cell_type": "code",
      "metadata": {
        "id": "MAnxlUqFKasN",
        "colab_type": "code",
        "colab": {}
      },
      "source": [
        "! mkdir /content/fine-tuning-keras/Food-11\n"
      ],
      "execution_count": 0,
      "outputs": []
    },
    {
      "cell_type": "code",
      "metadata": {
        "id": "r1YzA6CkcyQO",
        "colab_type": "code",
        "colab": {}
      },
      "source": [
        "%cd /content/fine-tuning-keras/Food-11\n",
        "!unzip man.zip"
      ],
      "execution_count": 0,
      "outputs": []
    },
    {
      "cell_type": "code",
      "metadata": {
        "id": "_Kn2bcYZg_4Q",
        "colab_type": "code",
        "colab": {
          "base_uri": "https://localhost:8080/",
          "height": 33
        },
        "outputId": "35ef5f0d-841c-43e9-cd2e-2f8d9a6c5719"
      },
      "source": [
        "cd /content/fine-tuning-keras"
      ],
      "execution_count": 21,
      "outputs": [
        {
          "output_type": "stream",
          "text": [
            "/content/fine-tuning-keras\n"
          ],
          "name": "stdout"
        }
      ]
    },
    {
      "cell_type": "code",
      "metadata": {
        "id": "Wid-AZ6WeCY0",
        "colab_type": "code",
        "colab": {
          "base_uri": "https://localhost:8080/",
          "height": 66
        },
        "outputId": "3d199317-8357-49d2-b3e1-878c4fdb05b4"
      },
      "source": [
        "! python build_dataset.py "
      ],
      "execution_count": 25,
      "outputs": [
        {
          "output_type": "stream",
          "text": [
            "[INFO] processing 'train/ split'...\n",
            "[INFO] processing 'test/ split'...\n",
            "[INFO] processing 'valid/ split'...\n"
          ],
          "name": "stdout"
        }
      ]
    },
    {
      "cell_type": "code",
      "metadata": {
        "id": "V-tapDzveMCI",
        "colab_type": "code",
        "colab": {
          "base_uri": "https://localhost:8080/",
          "height": 33
        },
        "outputId": "5fcd89c3-3f7d-4c7f-f28d-0b7a4e2a42f5"
      },
      "source": [
        "ls /content/fine-tuning-keras/dataset/"
      ],
      "execution_count": 26,
      "outputs": [
        {
          "output_type": "stream",
          "text": [
            "\u001b[0m\u001b[01;34mtest\u001b[0m/  \u001b[01;34mtrain\u001b[0m/  \u001b[01;34mvalid\u001b[0m/\n"
          ],
          "name": "stdout"
        }
      ]
    },
    {
      "cell_type": "code",
      "metadata": {
        "id": "-0eo6lJ5jNiT",
        "colab_type": "code",
        "colab": {
          "base_uri": "https://localhost:8080/",
          "height": 33
        },
        "outputId": "2d30aeec-3884-4421-a82c-8a35896e24c1"
      },
      "source": [
        "ls  /content/fine-tuning-keras/dataset/train/"
      ],
      "execution_count": 30,
      "outputs": [
        {
          "output_type": "stream",
          "text": [
            "\u001b[0m\u001b[01;34m0\u001b[0m/  \u001b[01;34m1\u001b[0m/\n"
          ],
          "name": "stdout"
        }
      ]
    },
    {
      "cell_type": "code",
      "metadata": {
        "id": "NufKbjQujNf6",
        "colab_type": "code",
        "colab": {
          "base_uri": "https://localhost:8080/",
          "height": 98
        },
        "outputId": "a00d8017-f8a9-42f7-b4cd-5a1601b2eeb9"
      },
      "source": [
        "ls -l /content/fine-tuning-keras/dataset/train/0/*.png | head -n 5"
      ],
      "execution_count": 32,
      "outputs": [
        {
          "output_type": "stream",
          "text": [
            "-rw-r--r-- 1 root root 24229 Dec 20 23:46 /content/fine-tuning-keras/dataset/train/0/0-10.png\n",
            "-rw-r--r-- 1 root root 24864 Dec 20 23:46 /content/fine-tuning-keras/dataset/train/0/0-11.png\n",
            "-rw-r--r-- 1 root root 25403 Dec  9 00:02 /content/fine-tuning-keras/dataset/train/0/0-12.png\n",
            "-rw-r--r-- 1 root root 25091 Dec  9 00:05 /content/fine-tuning-keras/dataset/train/0/0-13.png\n",
            "-rw-r--r-- 1 root root 25635 Dec  9 00:02 /content/fine-tuning-keras/dataset/train/0/0-14.png\n"
          ],
          "name": "stdout"
        }
      ]
    },
    {
      "cell_type": "code",
      "metadata": {
        "id": "ttPXP3-yjNdP",
        "colab_type": "code",
        "colab": {
          "base_uri": "https://localhost:8080/",
          "height": 1000
        },
        "outputId": "76412bda-3d7e-4298-a70b-340c10c5d459"
      },
      "source": [
        "! python train.py"
      ],
      "execution_count": 33,
      "outputs": [
        {
          "output_type": "stream",
          "text": [
            "Using TensorFlow backend.\n",
            "Found 21 images belonging to 2 classes.\n",
            "Found 5 images belonging to 2 classes.\n",
            "Found 5 images belonging to 2 classes.\n",
            "WARNING:tensorflow:From /usr/local/lib/python3.6/dist-packages/keras/backend/tensorflow_backend.py:66: The name tf.get_default_graph is deprecated. Please use tf.compat.v1.get_default_graph instead.\n",
            "\n",
            "WARNING:tensorflow:From /usr/local/lib/python3.6/dist-packages/keras/backend/tensorflow_backend.py:541: The name tf.placeholder is deprecated. Please use tf.compat.v1.placeholder instead.\n",
            "\n",
            "WARNING:tensorflow:From /usr/local/lib/python3.6/dist-packages/keras/backend/tensorflow_backend.py:4432: The name tf.random_uniform is deprecated. Please use tf.random.uniform instead.\n",
            "\n",
            "WARNING:tensorflow:From /usr/local/lib/python3.6/dist-packages/keras/backend/tensorflow_backend.py:4267: The name tf.nn.max_pool is deprecated. Please use tf.nn.max_pool2d instead.\n",
            "\n",
            "Downloading data from https://github.com/fchollet/deep-learning-models/releases/download/v0.1/vgg16_weights_tf_dim_ordering_tf_kernels_notop.h5\n",
            "58892288/58889256 [==============================] - 5s 0us/step\n",
            "WARNING:tensorflow:From /usr/local/lib/python3.6/dist-packages/keras/backend/tensorflow_backend.py:190: The name tf.get_default_session is deprecated. Please use tf.compat.v1.get_default_session instead.\n",
            "\n",
            "WARNING:tensorflow:From /usr/local/lib/python3.6/dist-packages/keras/backend/tensorflow_backend.py:197: The name tf.ConfigProto is deprecated. Please use tf.compat.v1.ConfigProto instead.\n",
            "\n",
            "WARNING:tensorflow:From /usr/local/lib/python3.6/dist-packages/keras/backend/tensorflow_backend.py:203: The name tf.Session is deprecated. Please use tf.compat.v1.Session instead.\n",
            "\n",
            "2019-12-23 11:44:05.298511: I tensorflow/core/platform/profile_utils/cpu_utils.cc:94] CPU Frequency: 2300000000 Hz\n",
            "2019-12-23 11:44:05.300907: I tensorflow/compiler/xla/service/service.cc:168] XLA service 0x5d61b80 initialized for platform Host (this does not guarantee that XLA will be used). Devices:\n",
            "2019-12-23 11:44:05.300950: I tensorflow/compiler/xla/service/service.cc:176]   StreamExecutor device (0): Host, Default Version\n",
            "2019-12-23 11:44:05.305655: I tensorflow/stream_executor/platform/default/dso_loader.cc:44] Successfully opened dynamic library libcuda.so.1\n",
            "2019-12-23 11:44:05.455135: I tensorflow/stream_executor/cuda/cuda_gpu_executor.cc:983] successful NUMA node read from SysFS had negative value (-1), but there must be at least one NUMA node, so returning NUMA node zero\n",
            "2019-12-23 11:44:05.456034: I tensorflow/compiler/xla/service/service.cc:168] XLA service 0x5d61d40 initialized for platform CUDA (this does not guarantee that XLA will be used). Devices:\n",
            "2019-12-23 11:44:05.456069: I tensorflow/compiler/xla/service/service.cc:176]   StreamExecutor device (0): Tesla K80, Compute Capability 3.7\n",
            "2019-12-23 11:44:05.457079: I tensorflow/stream_executor/cuda/cuda_gpu_executor.cc:983] successful NUMA node read from SysFS had negative value (-1), but there must be at least one NUMA node, so returning NUMA node zero\n",
            "2019-12-23 11:44:05.457791: I tensorflow/core/common_runtime/gpu/gpu_device.cc:1618] Found device 0 with properties: \n",
            "name: Tesla K80 major: 3 minor: 7 memoryClockRate(GHz): 0.8235\n",
            "pciBusID: 0000:00:04.0\n",
            "2019-12-23 11:44:05.569360: I tensorflow/stream_executor/platform/default/dso_loader.cc:44] Successfully opened dynamic library libcudart.so.10.1\n",
            "2019-12-23 11:44:05.838062: I tensorflow/stream_executor/platform/default/dso_loader.cc:44] Successfully opened dynamic library libcublas.so.10\n",
            "2019-12-23 11:44:05.972699: I tensorflow/stream_executor/platform/default/dso_loader.cc:44] Successfully opened dynamic library libcufft.so.10\n",
            "2019-12-23 11:44:05.997900: I tensorflow/stream_executor/platform/default/dso_loader.cc:44] Successfully opened dynamic library libcurand.so.10\n",
            "2019-12-23 11:44:06.272147: I tensorflow/stream_executor/platform/default/dso_loader.cc:44] Successfully opened dynamic library libcusolver.so.10\n",
            "2019-12-23 11:44:06.301771: I tensorflow/stream_executor/platform/default/dso_loader.cc:44] Successfully opened dynamic library libcusparse.so.10\n",
            "2019-12-23 11:44:06.824341: I tensorflow/stream_executor/platform/default/dso_loader.cc:44] Successfully opened dynamic library libcudnn.so.7\n",
            "2019-12-23 11:44:06.824560: I tensorflow/stream_executor/cuda/cuda_gpu_executor.cc:983] successful NUMA node read from SysFS had negative value (-1), but there must be at least one NUMA node, so returning NUMA node zero\n",
            "2019-12-23 11:44:06.825432: I tensorflow/stream_executor/cuda/cuda_gpu_executor.cc:983] successful NUMA node read from SysFS had negative value (-1), but there must be at least one NUMA node, so returning NUMA node zero\n",
            "2019-12-23 11:44:06.826136: I tensorflow/core/common_runtime/gpu/gpu_device.cc:1746] Adding visible gpu devices: 0\n",
            "2019-12-23 11:44:06.830823: I tensorflow/stream_executor/platform/default/dso_loader.cc:44] Successfully opened dynamic library libcudart.so.10.1\n",
            "2019-12-23 11:44:06.832454: I tensorflow/core/common_runtime/gpu/gpu_device.cc:1159] Device interconnect StreamExecutor with strength 1 edge matrix:\n",
            "2019-12-23 11:44:06.832490: I tensorflow/core/common_runtime/gpu/gpu_device.cc:1165]      0 \n",
            "2019-12-23 11:44:06.832518: I tensorflow/core/common_runtime/gpu/gpu_device.cc:1178] 0:   N \n",
            "2019-12-23 11:44:06.835022: I tensorflow/stream_executor/cuda/cuda_gpu_executor.cc:983] successful NUMA node read from SysFS had negative value (-1), but there must be at least one NUMA node, so returning NUMA node zero\n",
            "2019-12-23 11:44:06.835823: I tensorflow/stream_executor/cuda/cuda_gpu_executor.cc:983] successful NUMA node read from SysFS had negative value (-1), but there must be at least one NUMA node, so returning NUMA node zero\n",
            "2019-12-23 11:44:06.836527: W tensorflow/core/common_runtime/gpu/gpu_bfc_allocator.cc:39] Overriding allow_growth setting because the TF_FORCE_GPU_ALLOW_GROWTH environment variable is set. Original config value was 0.\n",
            "2019-12-23 11:44:06.836645: I tensorflow/core/common_runtime/gpu/gpu_device.cc:1304] Created TensorFlow device (/job:localhost/replica:0/task:0/device:GPU:0 with 10805 MB memory) -> physical GPU (device: 0, name: Tesla K80, pci bus id: 0000:00:04.0, compute capability: 3.7)\n",
            "WARNING:tensorflow:From /usr/local/lib/python3.6/dist-packages/keras/backend/tensorflow_backend.py:207: The name tf.global_variables is deprecated. Please use tf.compat.v1.global_variables instead.\n",
            "\n",
            "WARNING:tensorflow:From /usr/local/lib/python3.6/dist-packages/keras/backend/tensorflow_backend.py:216: The name tf.is_variable_initialized is deprecated. Please use tf.compat.v1.is_variable_initialized instead.\n",
            "\n",
            "WARNING:tensorflow:From /usr/local/lib/python3.6/dist-packages/keras/backend/tensorflow_backend.py:223: The name tf.variables_initializer is deprecated. Please use tf.compat.v1.variables_initializer instead.\n",
            "\n",
            "WARNING:tensorflow:From /usr/local/lib/python3.6/dist-packages/keras/backend/tensorflow_backend.py:148: The name tf.placeholder_with_default is deprecated. Please use tf.compat.v1.placeholder_with_default instead.\n",
            "\n",
            "WARNING:tensorflow:From /usr/local/lib/python3.6/dist-packages/keras/backend/tensorflow_backend.py:3733: calling dropout (from tensorflow.python.ops.nn_ops) with keep_prob is deprecated and will be removed in a future version.\n",
            "Instructions for updating:\n",
            "Please use `rate` instead of `keep_prob`. Rate should be set to `rate = 1 - keep_prob`.\n",
            "[INFO] compiling model...\n",
            "WARNING:tensorflow:From /usr/local/lib/python3.6/dist-packages/keras/optimizers.py:793: The name tf.train.Optimizer is deprecated. Please use tf.compat.v1.train.Optimizer instead.\n",
            "\n",
            "WARNING:tensorflow:From /usr/local/lib/python3.6/dist-packages/keras/backend/tensorflow_backend.py:3576: The name tf.log is deprecated. Please use tf.math.log instead.\n",
            "\n",
            "[INFO] training head...\n",
            "WARNING:tensorflow:From /usr/local/lib/python3.6/dist-packages/tensorflow_core/python/ops/math_grad.py:1424: where (from tensorflow.python.ops.array_ops) is deprecated and will be removed in a future version.\n",
            "Instructions for updating:\n",
            "Use tf.where in 2.0, which has the same broadcast rule as np.where\n",
            "WARNING:tensorflow:From /usr/local/lib/python3.6/dist-packages/keras/backend/tensorflow_backend.py:1033: The name tf.assign_add is deprecated. Please use tf.compat.v1.assign_add instead.\n",
            "\n",
            "WARNING:tensorflow:From /usr/local/lib/python3.6/dist-packages/keras/backend/tensorflow_backend.py:1020: The name tf.assign is deprecated. Please use tf.compat.v1.assign instead.\n",
            "\n",
            "Epoch 1/50\n",
            "2019-12-23 11:44:13.366060: I tensorflow/stream_executor/platform/default/dso_loader.cc:44] Successfully opened dynamic library libcublas.so.10\n",
            "2019-12-23 11:44:14.750215: I tensorflow/stream_executor/platform/default/dso_loader.cc:44] Successfully opened dynamic library libcudnn.so.7\n",
            "10/10 [==============================] - 8s 808ms/step - loss: 6.0774 - acc: 0.5981 - val_loss: 4.0295 - val_acc: 0.7500\n",
            "Epoch 2/50\n",
            "10/10 [==============================] - 1s 58ms/step - loss: 3.2390 - acc: 0.7990 - val_loss: 5.3727 - val_acc: 0.6667\n",
            "Epoch 3/50\n",
            "10/10 [==============================] - 1s 54ms/step - loss: 4.8354 - acc: 0.7000 - val_loss: 10.7454 - val_acc: 0.3333\n",
            "Epoch 4/50\n",
            "10/10 [==============================] - 1s 58ms/step - loss: 5.6683 - acc: 0.6483 - val_loss: 4.0295 - val_acc: 0.7500\n",
            "Epoch 5/50\n",
            "10/10 [==============================] - 1s 59ms/step - loss: 3.1619 - acc: 0.8038 - val_loss: 5.3727 - val_acc: 0.6667\n",
            "Epoch 6/50\n",
            "10/10 [==============================] - 1s 52ms/step - loss: 6.4010 - acc: 0.6029 - val_loss: 10.7454 - val_acc: 0.3333\n",
            "Epoch 7/50\n",
            "10/10 [==============================] - 1s 58ms/step - loss: 5.5912 - acc: 0.6531 - val_loss: 4.0295 - val_acc: 0.7500\n",
            "Epoch 8/50\n",
            "10/10 [==============================] - 1s 61ms/step - loss: 3.2390 - acc: 0.7990 - val_loss: 5.3727 - val_acc: 0.6667\n",
            "Epoch 9/50\n",
            "10/10 [==============================] - 1s 51ms/step - loss: 4.7814 - acc: 0.7033 - val_loss: 10.7454 - val_acc: 0.3333\n",
            "Epoch 10/50\n",
            "10/10 [==============================] - 1s 59ms/step - loss: 5.5912 - acc: 0.6531 - val_loss: 4.0295 - val_acc: 0.7500\n",
            "Epoch 11/50\n",
            "10/10 [==============================] - 1s 51ms/step - loss: 4.8586 - acc: 0.6986 - val_loss: 5.3727 - val_acc: 0.6667\n",
            "Epoch 12/50\n",
            "10/10 [==============================] - 1s 50ms/step - loss: 4.8586 - acc: 0.6986 - val_loss: 10.7454 - val_acc: 0.3333\n",
            "Epoch 13/50\n",
            "10/10 [==============================] - 1s 51ms/step - loss: 3.2390 - acc: 0.7990 - val_loss: 4.0295 - val_acc: 0.7500\n",
            "Epoch 14/50\n",
            "10/10 [==============================] - 1s 58ms/step - loss: 5.6683 - acc: 0.6483 - val_loss: 5.3727 - val_acc: 0.6667\n",
            "Epoch 15/50\n",
            "10/10 [==============================] - 1s 58ms/step - loss: 4.0295 - acc: 0.7500 - val_loss: 10.7454 - val_acc: 0.3333\n",
            "Epoch 16/50\n",
            "10/10 [==============================] - 1s 54ms/step - loss: 4.0702 - acc: 0.7475 - val_loss: 4.0295 - val_acc: 0.7500\n",
            "Epoch 17/50\n",
            "10/10 [==============================] - 1s 59ms/step - loss: 3.2390 - acc: 0.7990 - val_loss: 5.3727 - val_acc: 0.6667\n",
            "Epoch 18/50\n",
            "10/10 [==============================] - 1s 54ms/step - loss: 6.4472 - acc: 0.6000 - val_loss: 10.7454 - val_acc: 0.3333\n",
            "Epoch 19/50\n",
            "10/10 [==============================] - 1s 57ms/step - loss: 4.8586 - acc: 0.6986 - val_loss: 4.0295 - val_acc: 0.7500\n",
            "Epoch 20/50\n",
            "10/10 [==============================] - 1s 59ms/step - loss: 3.2390 - acc: 0.7990 - val_loss: 5.3727 - val_acc: 0.6667\n",
            "Epoch 21/50\n",
            "10/10 [==============================] - 0s 49ms/step - loss: 4.8029 - acc: 0.7020 - val_loss: 10.7454 - val_acc: 0.3333\n",
            "Epoch 22/50\n",
            "10/10 [==============================] - 1s 53ms/step - loss: 4.8354 - acc: 0.7000 - val_loss: 4.0295 - val_acc: 0.7500\n",
            "Epoch 23/50\n",
            "10/10 [==============================] - 1s 58ms/step - loss: 4.0295 - acc: 0.7500 - val_loss: 5.3727 - val_acc: 0.6667\n",
            "Epoch 24/50\n",
            "10/10 [==============================] - 1s 53ms/step - loss: 6.4010 - acc: 0.6029 - val_loss: 10.7454 - val_acc: 0.3333\n",
            "Epoch 25/50\n",
            "10/10 [==============================] - 1s 58ms/step - loss: 4.0488 - acc: 0.7488 - val_loss: 4.0295 - val_acc: 0.7500\n",
            "Epoch 26/50\n",
            "10/10 [==============================] - 1s 59ms/step - loss: 4.8586 - acc: 0.6986 - val_loss: 5.3727 - val_acc: 0.6667\n",
            "Epoch 27/50\n",
            "10/10 [==============================] - 1s 51ms/step - loss: 2.3522 - acc: 0.8541 - val_loss: 10.7454 - val_acc: 0.3333\n",
            "Epoch 28/50\n",
            "10/10 [==============================] - 1s 59ms/step - loss: 5.5912 - acc: 0.6531 - val_loss: 4.0295 - val_acc: 0.7500\n",
            "Epoch 29/50\n",
            "10/10 [==============================] - 1s 61ms/step - loss: 5.6683 - acc: 0.6483 - val_loss: 5.3727 - val_acc: 0.6667\n",
            "Epoch 30/50\n",
            "10/10 [==============================] - 0s 50ms/step - loss: 4.0488 - acc: 0.7488 - val_loss: 10.7454 - val_acc: 0.3333\n",
            "Epoch 31/50\n",
            "10/10 [==============================] - 1s 60ms/step - loss: 5.6683 - acc: 0.6483 - val_loss: 4.0295 - val_acc: 0.7500\n",
            "Epoch 32/50\n",
            "10/10 [==============================] - 1s 61ms/step - loss: 3.2390 - acc: 0.7990 - val_loss: 5.3727 - val_acc: 0.6667\n",
            "Epoch 33/50\n",
            "10/10 [==============================] - 0s 49ms/step - loss: 4.8586 - acc: 0.6986 - val_loss: 10.7454 - val_acc: 0.3333\n",
            "Epoch 34/50\n",
            "10/10 [==============================] - 1s 53ms/step - loss: 3.2390 - acc: 0.7990 - val_loss: 4.0295 - val_acc: 0.7500\n",
            "Epoch 35/50\n",
            "10/10 [==============================] - 1s 58ms/step - loss: 5.6683 - acc: 0.6483 - val_loss: 5.3727 - val_acc: 0.6667\n",
            "Epoch 36/50\n",
            "10/10 [==============================] - 1s 53ms/step - loss: 4.7814 - acc: 0.7033 - val_loss: 10.7454 - val_acc: 0.3333\n",
            "Epoch 37/50\n",
            "10/10 [==============================] - 1s 60ms/step - loss: 4.8354 - acc: 0.7000 - val_loss: 4.0295 - val_acc: 0.7500\n",
            "Epoch 38/50\n",
            "10/10 [==============================] - 1s 57ms/step - loss: 4.8586 - acc: 0.6986 - val_loss: 5.3727 - val_acc: 0.6667\n",
            "Epoch 39/50\n",
            "10/10 [==============================] - 1s 50ms/step - loss: 3.2562 - acc: 0.7980 - val_loss: 10.7454 - val_acc: 0.3333\n",
            "Epoch 40/50\n",
            "10/10 [==============================] - 1s 58ms/step - loss: 4.0488 - acc: 0.7488 - val_loss: 4.0295 - val_acc: 0.7500\n",
            "Epoch 41/50\n",
            "10/10 [==============================] - 1s 62ms/step - loss: 5.6413 - acc: 0.6500 - val_loss: 5.3727 - val_acc: 0.6667\n",
            "Epoch 42/50\n",
            "10/10 [==============================] - 1s 51ms/step - loss: 4.0488 - acc: 0.7488 - val_loss: 10.7454 - val_acc: 0.3333\n",
            "Epoch 43/50\n",
            "10/10 [==============================] - 1s 58ms/step - loss: 4.0488 - acc: 0.7488 - val_loss: 4.0295 - val_acc: 0.7500\n",
            "Epoch 44/50\n",
            "10/10 [==============================] - 1s 52ms/step - loss: 5.5912 - acc: 0.6531 - val_loss: 5.3727 - val_acc: 0.6667\n",
            "Epoch 45/50\n",
            "10/10 [==============================] - 1s 51ms/step - loss: 4.0488 - acc: 0.7488 - val_loss: 10.7454 - val_acc: 0.3333\n",
            "Epoch 46/50\n",
            "10/10 [==============================] - 1s 58ms/step - loss: 4.7814 - acc: 0.7033 - val_loss: 4.0295 - val_acc: 0.7500\n",
            "Epoch 47/50\n",
            "10/10 [==============================] - 1s 60ms/step - loss: 3.2390 - acc: 0.7990 - val_loss: 5.3727 - val_acc: 0.6667\n",
            "Epoch 48/50\n",
            "10/10 [==============================] - 1s 55ms/step - loss: 7.2531 - acc: 0.5500 - val_loss: 10.7454 - val_acc: 0.3333\n",
            "Epoch 49/50\n",
            "10/10 [==============================] - 1s 57ms/step - loss: 3.2390 - acc: 0.7990 - val_loss: 4.0295 - val_acc: 0.7500\n",
            "Epoch 50/50\n",
            "10/10 [==============================] - 1s 59ms/step - loss: 3.9888 - acc: 0.7525 - val_loss: 5.3727 - val_acc: 0.6667\n",
            "[INFO] evaluating after fine-tuning network head...\n",
            "/usr/local/lib/python3.6/dist-packages/sklearn/metrics/classification.py:1437: UndefinedMetricWarning: Precision and F-score are ill-defined and being set to 0.0 in labels with no predicted samples.\n",
            "  'precision', 'predicted', average, warn_for)\n",
            "              precision    recall  f1-score   support\n",
            "\n",
            "           0       0.60      1.00      0.75         3\n",
            "           1       0.00      0.00      0.00         2\n",
            "\n",
            "    accuracy                           0.60         5\n",
            "   macro avg       0.30      0.50      0.37         5\n",
            "weighted avg       0.36      0.60      0.45         5\n",
            "\n",
            "<keras.engine.input_layer.InputLayer object at 0x7f78615bef98>: False\n",
            "<keras.layers.convolutional.Conv2D object at 0x7f77fdabce10>: False\n",
            "<keras.layers.convolutional.Conv2D object at 0x7f77fdabc278>: False\n",
            "<keras.layers.pooling.MaxPooling2D object at 0x7f77fb827630>: False\n",
            "<keras.layers.convolutional.Conv2D object at 0x7f77fb830668>: False\n",
            "<keras.layers.convolutional.Conv2D object at 0x7f77fb834860>: False\n",
            "<keras.layers.pooling.MaxPooling2D object at 0x7f77fb83c550>: False\n",
            "<keras.layers.convolutional.Conv2D object at 0x7f77fb843eb8>: False\n",
            "<keras.layers.convolutional.Conv2D object at 0x7f77fb848e10>: False\n",
            "<keras.layers.convolutional.Conv2D object at 0x7f77fb84ecf8>: False\n",
            "<keras.layers.pooling.MaxPooling2D object at 0x7f77fb859518>: False\n",
            "<keras.layers.convolutional.Conv2D object at 0x7f77fb7e0e80>: False\n",
            "<keras.layers.convolutional.Conv2D object at 0x7f77fb7e6dd8>: False\n",
            "<keras.layers.convolutional.Conv2D object at 0x7f77fb7eccc0>: False\n",
            "<keras.layers.pooling.MaxPooling2D object at 0x7f77fb7fa2e8>: False\n",
            "<keras.layers.convolutional.Conv2D object at 0x7f77fb800c18>: True\n",
            "<keras.layers.convolutional.Conv2D object at 0x7f77fb806d68>: True\n",
            "<keras.layers.convolutional.Conv2D object at 0x7f77fb80bc50>: True\n",
            "<keras.layers.pooling.MaxPooling2D object at 0x7f77fb818630>: True\n",
            "[INFO] re-compiling model...\n",
            "Epoch 1/20\n",
            "10/10 [==============================] - 1s 146ms/step - loss: 4.8586 - acc: 0.6986 - val_loss: 4.0295 - val_acc: 0.7500\n",
            "Epoch 2/20\n",
            "10/10 [==============================] - 1s 69ms/step - loss: 4.0488 - acc: 0.7488 - val_loss: 5.3727 - val_acc: 0.6667\n",
            "Epoch 3/20\n",
            "10/10 [==============================] - 1s 64ms/step - loss: 4.8586 - acc: 0.6986 - val_loss: 10.7454 - val_acc: 0.3333\n",
            "Epoch 4/20\n",
            "10/10 [==============================] - 1s 70ms/step - loss: 4.0295 - acc: 0.7500 - val_loss: 4.0295 - val_acc: 0.7500\n",
            "Epoch 5/20\n",
            "10/10 [==============================] - 1s 66ms/step - loss: 4.8586 - acc: 0.6986 - val_loss: 5.3727 - val_acc: 0.6667\n",
            "Epoch 6/20\n",
            "10/10 [==============================] - 1s 66ms/step - loss: 3.2390 - acc: 0.7990 - val_loss: 10.7454 - val_acc: 0.3333\n",
            "Epoch 7/20\n",
            "10/10 [==============================] - 1s 66ms/step - loss: 8.0590 - acc: 0.5000 - val_loss: 4.0295 - val_acc: 0.7500\n",
            "Epoch 8/20\n",
            "10/10 [==============================] - 1s 69ms/step - loss: 3.2236 - acc: 0.8000 - val_loss: 5.3727 - val_acc: 0.6667\n",
            "Epoch 9/20\n",
            "10/10 [==============================] - 1s 65ms/step - loss: 4.7814 - acc: 0.7033 - val_loss: 10.7454 - val_acc: 0.3333\n",
            "Epoch 10/20\n",
            "10/10 [==============================] - 1s 67ms/step - loss: 4.8586 - acc: 0.6986 - val_loss: 4.0295 - val_acc: 0.7500\n",
            "Epoch 11/20\n",
            "10/10 [==============================] - 1s 69ms/step - loss: 3.9717 - acc: 0.7536 - val_loss: 5.3727 - val_acc: 0.6667\n",
            "Epoch 12/20\n",
            "10/10 [==============================] - 1s 64ms/step - loss: 4.0488 - acc: 0.7488 - val_loss: 10.7454 - val_acc: 0.3333\n",
            "Epoch 13/20\n",
            "10/10 [==============================] - 1s 72ms/step - loss: 4.8354 - acc: 0.7000 - val_loss: 4.0295 - val_acc: 0.7500\n",
            "Epoch 14/20\n",
            "10/10 [==============================] - 1s 64ms/step - loss: 4.8029 - acc: 0.7020 - val_loss: 5.3727 - val_acc: 0.6667\n",
            "Epoch 15/20\n",
            "10/10 [==============================] - 1s 66ms/step - loss: 4.0488 - acc: 0.7488 - val_loss: 10.7454 - val_acc: 0.3333\n",
            "Epoch 16/20\n",
            "10/10 [==============================] - 1s 69ms/step - loss: 4.0295 - acc: 0.7500 - val_loss: 4.0295 - val_acc: 0.7500\n",
            "Epoch 17/20\n",
            "10/10 [==============================] - 1s 66ms/step - loss: 5.6683 - acc: 0.6483 - val_loss: 5.3727 - val_acc: 0.6667\n",
            "Epoch 18/20\n",
            "10/10 [==============================] - 1s 64ms/step - loss: 4.8029 - acc: 0.7020 - val_loss: 10.7454 - val_acc: 0.3333\n",
            "Epoch 19/20\n",
            "10/10 [==============================] - 1s 69ms/step - loss: 4.8354 - acc: 0.7000 - val_loss: 4.0295 - val_acc: 0.7500\n",
            "Epoch 20/20\n",
            "10/10 [==============================] - 1s 68ms/step - loss: 4.8029 - acc: 0.7020 - val_loss: 5.3727 - val_acc: 0.6667\n",
            "[INFO] evaluating after fine-tuning network...\n",
            "/usr/local/lib/python3.6/dist-packages/sklearn/metrics/classification.py:1437: UndefinedMetricWarning: Precision and F-score are ill-defined and being set to 0.0 in labels with no predicted samples.\n",
            "  'precision', 'predicted', average, warn_for)\n",
            "              precision    recall  f1-score   support\n",
            "\n",
            "           0       0.60      1.00      0.75         3\n",
            "           1       0.00      0.00      0.00         2\n",
            "\n",
            "    accuracy                           0.60         5\n",
            "   macro avg       0.30      0.50      0.37         5\n",
            "weighted avg       0.36      0.60      0.45         5\n",
            "\n",
            "[INFO] serializing network...\n"
          ],
          "name": "stdout"
        }
      ]
    },
    {
      "cell_type": "code",
      "metadata": {
        "id": "AEAAmcYFjNak",
        "colab_type": "code",
        "colab": {
          "base_uri": "https://localhost:8080/",
          "height": 1000
        },
        "outputId": "4376ed48-ac82-431f-9eae-c7977fe48a89"
      },
      "source": [
        "!python predict.py --image '/content/fine-tuning-keras/Food-11/test/0/0-0.png'"
      ],
      "execution_count": 40,
      "outputs": [
        {
          "output_type": "stream",
          "text": [
            "Using TensorFlow backend.\n",
            "[INFO] loading model...\n",
            "WARNING:tensorflow:From /usr/local/lib/python3.6/dist-packages/keras/backend/tensorflow_backend.py:541: The name tf.placeholder is deprecated. Please use tf.compat.v1.placeholder instead.\n",
            "\n",
            "WARNING:tensorflow:From /usr/local/lib/python3.6/dist-packages/keras/backend/tensorflow_backend.py:4432: The name tf.random_uniform is deprecated. Please use tf.random.uniform instead.\n",
            "\n",
            "WARNING:tensorflow:From /usr/local/lib/python3.6/dist-packages/keras/backend/tensorflow_backend.py:4267: The name tf.nn.max_pool is deprecated. Please use tf.nn.max_pool2d instead.\n",
            "\n",
            "WARNING:tensorflow:From /usr/local/lib/python3.6/dist-packages/keras/backend/tensorflow_backend.py:66: The name tf.get_default_graph is deprecated. Please use tf.compat.v1.get_default_graph instead.\n",
            "\n",
            "WARNING:tensorflow:From /usr/local/lib/python3.6/dist-packages/keras/backend/tensorflow_backend.py:148: The name tf.placeholder_with_default is deprecated. Please use tf.compat.v1.placeholder_with_default instead.\n",
            "\n",
            "WARNING:tensorflow:From /usr/local/lib/python3.6/dist-packages/keras/backend/tensorflow_backend.py:3733: calling dropout (from tensorflow.python.ops.nn_ops) with keep_prob is deprecated and will be removed in a future version.\n",
            "Instructions for updating:\n",
            "Please use `rate` instead of `keep_prob`. Rate should be set to `rate = 1 - keep_prob`.\n",
            "WARNING:tensorflow:From /usr/local/lib/python3.6/dist-packages/keras/backend/tensorflow_backend.py:190: The name tf.get_default_session is deprecated. Please use tf.compat.v1.get_default_session instead.\n",
            "\n",
            "WARNING:tensorflow:From /usr/local/lib/python3.6/dist-packages/keras/backend/tensorflow_backend.py:197: The name tf.ConfigProto is deprecated. Please use tf.compat.v1.ConfigProto instead.\n",
            "\n",
            "WARNING:tensorflow:From /usr/local/lib/python3.6/dist-packages/keras/backend/tensorflow_backend.py:203: The name tf.Session is deprecated. Please use tf.compat.v1.Session instead.\n",
            "\n",
            "2019-12-23 11:56:03.021361: I tensorflow/core/platform/profile_utils/cpu_utils.cc:94] CPU Frequency: 2300000000 Hz\n",
            "2019-12-23 11:56:03.021663: I tensorflow/compiler/xla/service/service.cc:168] XLA service 0x6564840 initialized for platform Host (this does not guarantee that XLA will be used). Devices:\n",
            "2019-12-23 11:56:03.021699: I tensorflow/compiler/xla/service/service.cc:176]   StreamExecutor device (0): Host, Default Version\n",
            "2019-12-23 11:56:03.023731: I tensorflow/stream_executor/platform/default/dso_loader.cc:44] Successfully opened dynamic library libcuda.so.1\n",
            "2019-12-23 11:56:03.094700: I tensorflow/stream_executor/cuda/cuda_gpu_executor.cc:983] successful NUMA node read from SysFS had negative value (-1), but there must be at least one NUMA node, so returning NUMA node zero\n",
            "2019-12-23 11:56:03.095491: I tensorflow/compiler/xla/service/service.cc:168] XLA service 0x6564a00 initialized for platform CUDA (this does not guarantee that XLA will be used). Devices:\n",
            "2019-12-23 11:56:03.095521: I tensorflow/compiler/xla/service/service.cc:176]   StreamExecutor device (0): Tesla K80, Compute Capability 3.7\n",
            "2019-12-23 11:56:03.095713: I tensorflow/stream_executor/cuda/cuda_gpu_executor.cc:983] successful NUMA node read from SysFS had negative value (-1), but there must be at least one NUMA node, so returning NUMA node zero\n",
            "2019-12-23 11:56:03.096384: I tensorflow/core/common_runtime/gpu/gpu_device.cc:1618] Found device 0 with properties: \n",
            "name: Tesla K80 major: 3 minor: 7 memoryClockRate(GHz): 0.8235\n",
            "pciBusID: 0000:00:04.0\n",
            "2019-12-23 11:56:03.096718: I tensorflow/stream_executor/platform/default/dso_loader.cc:44] Successfully opened dynamic library libcudart.so.10.1\n",
            "2019-12-23 11:56:03.098487: I tensorflow/stream_executor/platform/default/dso_loader.cc:44] Successfully opened dynamic library libcublas.so.10\n",
            "2019-12-23 11:56:03.100345: I tensorflow/stream_executor/platform/default/dso_loader.cc:44] Successfully opened dynamic library libcufft.so.10\n",
            "2019-12-23 11:56:03.100767: I tensorflow/stream_executor/platform/default/dso_loader.cc:44] Successfully opened dynamic library libcurand.so.10\n",
            "2019-12-23 11:56:03.102715: I tensorflow/stream_executor/platform/default/dso_loader.cc:44] Successfully opened dynamic library libcusolver.so.10\n",
            "2019-12-23 11:56:03.103803: I tensorflow/stream_executor/platform/default/dso_loader.cc:44] Successfully opened dynamic library libcusparse.so.10\n",
            "2019-12-23 11:56:03.107720: I tensorflow/stream_executor/platform/default/dso_loader.cc:44] Successfully opened dynamic library libcudnn.so.7\n",
            "2019-12-23 11:56:03.107844: I tensorflow/stream_executor/cuda/cuda_gpu_executor.cc:983] successful NUMA node read from SysFS had negative value (-1), but there must be at least one NUMA node, so returning NUMA node zero\n",
            "2019-12-23 11:56:03.108644: I tensorflow/stream_executor/cuda/cuda_gpu_executor.cc:983] successful NUMA node read from SysFS had negative value (-1), but there must be at least one NUMA node, so returning NUMA node zero\n",
            "2019-12-23 11:56:03.110801: I tensorflow/core/common_runtime/gpu/gpu_device.cc:1746] Adding visible gpu devices: 0\n",
            "2019-12-23 11:56:03.110890: I tensorflow/stream_executor/platform/default/dso_loader.cc:44] Successfully opened dynamic library libcudart.so.10.1\n",
            "2019-12-23 11:56:03.112583: I tensorflow/core/common_runtime/gpu/gpu_device.cc:1159] Device interconnect StreamExecutor with strength 1 edge matrix:\n",
            "2019-12-23 11:56:03.112652: I tensorflow/core/common_runtime/gpu/gpu_device.cc:1165]      0 \n",
            "2019-12-23 11:56:03.112674: I tensorflow/core/common_runtime/gpu/gpu_device.cc:1178] 0:   N \n",
            "2019-12-23 11:56:03.112906: I tensorflow/stream_executor/cuda/cuda_gpu_executor.cc:983] successful NUMA node read from SysFS had negative value (-1), but there must be at least one NUMA node, so returning NUMA node zero\n",
            "2019-12-23 11:56:03.113829: I tensorflow/stream_executor/cuda/cuda_gpu_executor.cc:983] successful NUMA node read from SysFS had negative value (-1), but there must be at least one NUMA node, so returning NUMA node zero\n",
            "2019-12-23 11:56:03.114702: W tensorflow/core/common_runtime/gpu/gpu_bfc_allocator.cc:39] Overriding allow_growth setting because the TF_FORCE_GPU_ALLOW_GROWTH environment variable is set. Original config value was 0.\n",
            "2019-12-23 11:56:03.114768: I tensorflow/core/common_runtime/gpu/gpu_device.cc:1304] Created TensorFlow device (/job:localhost/replica:0/task:0/device:GPU:0 with 10805 MB memory) -> physical GPU (device: 0, name: Tesla K80, pci bus id: 0000:00:04.0, compute capability: 3.7)\n",
            "WARNING:tensorflow:From /usr/local/lib/python3.6/dist-packages/keras/backend/tensorflow_backend.py:207: The name tf.global_variables is deprecated. Please use tf.compat.v1.global_variables instead.\n",
            "\n",
            "WARNING:tensorflow:From /usr/local/lib/python3.6/dist-packages/keras/backend/tensorflow_backend.py:216: The name tf.is_variable_initialized is deprecated. Please use tf.compat.v1.is_variable_initialized instead.\n",
            "\n",
            "WARNING:tensorflow:From /usr/local/lib/python3.6/dist-packages/keras/backend/tensorflow_backend.py:223: The name tf.variables_initializer is deprecated. Please use tf.compat.v1.variables_initializer instead.\n",
            "\n",
            "WARNING:tensorflow:From /usr/local/lib/python3.6/dist-packages/keras/optimizers.py:793: The name tf.train.Optimizer is deprecated. Please use tf.compat.v1.train.Optimizer instead.\n",
            "\n",
            "WARNING:tensorflow:From /usr/local/lib/python3.6/dist-packages/keras/backend/tensorflow_backend.py:3576: The name tf.log is deprecated. Please use tf.math.log instead.\n",
            "\n",
            "WARNING:tensorflow:From /usr/local/lib/python3.6/dist-packages/tensorflow_core/python/ops/math_grad.py:1424: where (from tensorflow.python.ops.array_ops) is deprecated and will be removed in a future version.\n",
            "Instructions for updating:\n",
            "Use tf.where in 2.0, which has the same broadcast rule as np.where\n",
            "WARNING:tensorflow:From /usr/local/lib/python3.6/dist-packages/keras/backend/tensorflow_backend.py:1033: The name tf.assign_add is deprecated. Please use tf.compat.v1.assign_add instead.\n",
            "\n",
            "WARNING:tensorflow:From /usr/local/lib/python3.6/dist-packages/keras/backend/tensorflow_backend.py:1020: The name tf.assign is deprecated. Please use tf.compat.v1.assign instead.\n",
            "\n",
            "2019-12-23 11:56:04.698739: I tensorflow/stream_executor/platform/default/dso_loader.cc:44] Successfully opened dynamic library libcublas.so.10\n",
            "2019-12-23 11:56:04.846170: I tensorflow/stream_executor/platform/default/dso_loader.cc:44] Successfully opened dynamic library libcudnn.so.7\n"
          ],
          "name": "stdout"
        }
      ]
    },
    {
      "cell_type": "code",
      "metadata": {
        "id": "DJ2-91T0n5sW",
        "colab_type": "code",
        "colab": {}
      },
      "source": [
        "!zip -r /content/fine_tune_me.zip  /content/fine-tuning-keras"
      ],
      "execution_count": 0,
      "outputs": []
    }
  ]
}